{
 "cells": [
  {
   "cell_type": "markdown",
   "id": "a75ca8bd",
   "metadata": {},
   "source": [
    "# Project Overview\n",
    "This project explores the relationship between market sentiment and trader performance using two primary datasets:\n",
    "\n",
    "Bitcoin Market Sentiment Dataset — contains daily Fear–Greed Index values with sentiment classifications such as “Fear”, “Greed”, and “Extreme Greed.”\n",
    "\n",
    "Historical Trader Data from Hyperliquid — includes detailed trading activity such as account, symbol, execution price, trade size, direction, and profit/loss.\n",
    "\n",
    "The goal is to analyze how market sentiment influences trader profitability and uncover behavioral patterns that could inform smarter trading strategies."
   ]
  },
  {
   "cell_type": "code",
   "execution_count": 122,
   "id": "c2f1e8a4",
   "metadata": {},
   "outputs": [],
   "source": [
    "import pandas as pd\n",
    "import matplotlib.pyplot as plt\n",
    "import seaborn as sns\n",
    "from scipy.stats import pearsonr, spearmanr"
   ]
  },
  {
   "cell_type": "code",
   "execution_count": 123,
   "id": "112568c8",
   "metadata": {},
   "outputs": [],
   "source": [
    "feardf=pd.read_csv(\"fear_greed_index.csv\")\n",
    "historydf=pd.read_csv(\"historical_data.csv\")"
   ]
  },
  {
   "cell_type": "code",
   "execution_count": 124,
   "id": "b86a52a5",
   "metadata": {},
   "outputs": [
    {
     "data": {
      "text/html": [
       "<div>\n",
       "<style scoped>\n",
       "    .dataframe tbody tr th:only-of-type {\n",
       "        vertical-align: middle;\n",
       "    }\n",
       "\n",
       "    .dataframe tbody tr th {\n",
       "        vertical-align: top;\n",
       "    }\n",
       "\n",
       "    .dataframe thead th {\n",
       "        text-align: right;\n",
       "    }\n",
       "</style>\n",
       "<table border=\"1\" class=\"dataframe\">\n",
       "  <thead>\n",
       "    <tr style=\"text-align: right;\">\n",
       "      <th></th>\n",
       "      <th>timestamp</th>\n",
       "      <th>value</th>\n",
       "      <th>classification</th>\n",
       "      <th>date</th>\n",
       "    </tr>\n",
       "  </thead>\n",
       "  <tbody>\n",
       "    <tr>\n",
       "      <th>0</th>\n",
       "      <td>1517463000</td>\n",
       "      <td>30</td>\n",
       "      <td>Fear</td>\n",
       "      <td>2018-02-01</td>\n",
       "    </tr>\n",
       "    <tr>\n",
       "      <th>1</th>\n",
       "      <td>1517549400</td>\n",
       "      <td>15</td>\n",
       "      <td>Extreme Fear</td>\n",
       "      <td>2018-02-02</td>\n",
       "    </tr>\n",
       "    <tr>\n",
       "      <th>2</th>\n",
       "      <td>1517635800</td>\n",
       "      <td>40</td>\n",
       "      <td>Fear</td>\n",
       "      <td>2018-02-03</td>\n",
       "    </tr>\n",
       "    <tr>\n",
       "      <th>3</th>\n",
       "      <td>1517722200</td>\n",
       "      <td>24</td>\n",
       "      <td>Extreme Fear</td>\n",
       "      <td>2018-02-04</td>\n",
       "    </tr>\n",
       "    <tr>\n",
       "      <th>4</th>\n",
       "      <td>1517808600</td>\n",
       "      <td>11</td>\n",
       "      <td>Extreme Fear</td>\n",
       "      <td>2018-02-05</td>\n",
       "    </tr>\n",
       "  </tbody>\n",
       "</table>\n",
       "</div>"
      ],
      "text/plain": [
       "    timestamp  value classification        date\n",
       "0  1517463000     30           Fear  2018-02-01\n",
       "1  1517549400     15   Extreme Fear  2018-02-02\n",
       "2  1517635800     40           Fear  2018-02-03\n",
       "3  1517722200     24   Extreme Fear  2018-02-04\n",
       "4  1517808600     11   Extreme Fear  2018-02-05"
      ]
     },
     "execution_count": 124,
     "metadata": {},
     "output_type": "execute_result"
    }
   ],
   "source": [
    "feardf.head(5)"
   ]
  },
  {
   "cell_type": "code",
   "execution_count": 125,
   "id": "344ce888",
   "metadata": {},
   "outputs": [
    {
     "data": {
      "text/html": [
       "<div>\n",
       "<style scoped>\n",
       "    .dataframe tbody tr th:only-of-type {\n",
       "        vertical-align: middle;\n",
       "    }\n",
       "\n",
       "    .dataframe tbody tr th {\n",
       "        vertical-align: top;\n",
       "    }\n",
       "\n",
       "    .dataframe thead th {\n",
       "        text-align: right;\n",
       "    }\n",
       "</style>\n",
       "<table border=\"1\" class=\"dataframe\">\n",
       "  <thead>\n",
       "    <tr style=\"text-align: right;\">\n",
       "      <th></th>\n",
       "      <th>Account</th>\n",
       "      <th>Coin</th>\n",
       "      <th>Execution Price</th>\n",
       "      <th>Size Tokens</th>\n",
       "      <th>Size USD</th>\n",
       "      <th>Side</th>\n",
       "      <th>Timestamp IST</th>\n",
       "      <th>Start Position</th>\n",
       "      <th>Direction</th>\n",
       "      <th>Closed PnL</th>\n",
       "      <th>Transaction Hash</th>\n",
       "      <th>Order ID</th>\n",
       "      <th>Crossed</th>\n",
       "      <th>Fee</th>\n",
       "      <th>Trade ID</th>\n",
       "      <th>Timestamp</th>\n",
       "    </tr>\n",
       "  </thead>\n",
       "  <tbody>\n",
       "    <tr>\n",
       "      <th>0</th>\n",
       "      <td>0xae5eacaf9c6b9111fd53034a602c192a04e082ed</td>\n",
       "      <td>@107</td>\n",
       "      <td>7.9769</td>\n",
       "      <td>986.87</td>\n",
       "      <td>7872.16</td>\n",
       "      <td>BUY</td>\n",
       "      <td>02-12-2024 22:50</td>\n",
       "      <td>0.000000</td>\n",
       "      <td>Buy</td>\n",
       "      <td>0.0</td>\n",
       "      <td>0xec09451986a1874e3a980418412fcd0201f500c95bac...</td>\n",
       "      <td>52017706630</td>\n",
       "      <td>True</td>\n",
       "      <td>0.345404</td>\n",
       "      <td>8.950000e+14</td>\n",
       "      <td>1.730000e+12</td>\n",
       "    </tr>\n",
       "    <tr>\n",
       "      <th>1</th>\n",
       "      <td>0xae5eacaf9c6b9111fd53034a602c192a04e082ed</td>\n",
       "      <td>@107</td>\n",
       "      <td>7.9800</td>\n",
       "      <td>16.00</td>\n",
       "      <td>127.68</td>\n",
       "      <td>BUY</td>\n",
       "      <td>02-12-2024 22:50</td>\n",
       "      <td>986.524596</td>\n",
       "      <td>Buy</td>\n",
       "      <td>0.0</td>\n",
       "      <td>0xec09451986a1874e3a980418412fcd0201f500c95bac...</td>\n",
       "      <td>52017706630</td>\n",
       "      <td>True</td>\n",
       "      <td>0.005600</td>\n",
       "      <td>4.430000e+14</td>\n",
       "      <td>1.730000e+12</td>\n",
       "    </tr>\n",
       "    <tr>\n",
       "      <th>2</th>\n",
       "      <td>0xae5eacaf9c6b9111fd53034a602c192a04e082ed</td>\n",
       "      <td>@107</td>\n",
       "      <td>7.9855</td>\n",
       "      <td>144.09</td>\n",
       "      <td>1150.63</td>\n",
       "      <td>BUY</td>\n",
       "      <td>02-12-2024 22:50</td>\n",
       "      <td>1002.518996</td>\n",
       "      <td>Buy</td>\n",
       "      <td>0.0</td>\n",
       "      <td>0xec09451986a1874e3a980418412fcd0201f500c95bac...</td>\n",
       "      <td>52017706630</td>\n",
       "      <td>True</td>\n",
       "      <td>0.050431</td>\n",
       "      <td>6.600000e+14</td>\n",
       "      <td>1.730000e+12</td>\n",
       "    </tr>\n",
       "    <tr>\n",
       "      <th>3</th>\n",
       "      <td>0xae5eacaf9c6b9111fd53034a602c192a04e082ed</td>\n",
       "      <td>@107</td>\n",
       "      <td>7.9874</td>\n",
       "      <td>142.98</td>\n",
       "      <td>1142.04</td>\n",
       "      <td>BUY</td>\n",
       "      <td>02-12-2024 22:50</td>\n",
       "      <td>1146.558564</td>\n",
       "      <td>Buy</td>\n",
       "      <td>0.0</td>\n",
       "      <td>0xec09451986a1874e3a980418412fcd0201f500c95bac...</td>\n",
       "      <td>52017706630</td>\n",
       "      <td>True</td>\n",
       "      <td>0.050043</td>\n",
       "      <td>1.080000e+15</td>\n",
       "      <td>1.730000e+12</td>\n",
       "    </tr>\n",
       "    <tr>\n",
       "      <th>4</th>\n",
       "      <td>0xae5eacaf9c6b9111fd53034a602c192a04e082ed</td>\n",
       "      <td>@107</td>\n",
       "      <td>7.9894</td>\n",
       "      <td>8.73</td>\n",
       "      <td>69.75</td>\n",
       "      <td>BUY</td>\n",
       "      <td>02-12-2024 22:50</td>\n",
       "      <td>1289.488521</td>\n",
       "      <td>Buy</td>\n",
       "      <td>0.0</td>\n",
       "      <td>0xec09451986a1874e3a980418412fcd0201f500c95bac...</td>\n",
       "      <td>52017706630</td>\n",
       "      <td>True</td>\n",
       "      <td>0.003055</td>\n",
       "      <td>1.050000e+15</td>\n",
       "      <td>1.730000e+12</td>\n",
       "    </tr>\n",
       "  </tbody>\n",
       "</table>\n",
       "</div>"
      ],
      "text/plain": [
       "                                      Account  Coin  Execution Price  \\\n",
       "0  0xae5eacaf9c6b9111fd53034a602c192a04e082ed  @107           7.9769   \n",
       "1  0xae5eacaf9c6b9111fd53034a602c192a04e082ed  @107           7.9800   \n",
       "2  0xae5eacaf9c6b9111fd53034a602c192a04e082ed  @107           7.9855   \n",
       "3  0xae5eacaf9c6b9111fd53034a602c192a04e082ed  @107           7.9874   \n",
       "4  0xae5eacaf9c6b9111fd53034a602c192a04e082ed  @107           7.9894   \n",
       "\n",
       "   Size Tokens  Size USD Side     Timestamp IST  Start Position Direction  \\\n",
       "0       986.87   7872.16  BUY  02-12-2024 22:50        0.000000       Buy   \n",
       "1        16.00    127.68  BUY  02-12-2024 22:50      986.524596       Buy   \n",
       "2       144.09   1150.63  BUY  02-12-2024 22:50     1002.518996       Buy   \n",
       "3       142.98   1142.04  BUY  02-12-2024 22:50     1146.558564       Buy   \n",
       "4         8.73     69.75  BUY  02-12-2024 22:50     1289.488521       Buy   \n",
       "\n",
       "   Closed PnL                                   Transaction Hash     Order ID  \\\n",
       "0         0.0  0xec09451986a1874e3a980418412fcd0201f500c95bac...  52017706630   \n",
       "1         0.0  0xec09451986a1874e3a980418412fcd0201f500c95bac...  52017706630   \n",
       "2         0.0  0xec09451986a1874e3a980418412fcd0201f500c95bac...  52017706630   \n",
       "3         0.0  0xec09451986a1874e3a980418412fcd0201f500c95bac...  52017706630   \n",
       "4         0.0  0xec09451986a1874e3a980418412fcd0201f500c95bac...  52017706630   \n",
       "\n",
       "   Crossed       Fee      Trade ID     Timestamp  \n",
       "0     True  0.345404  8.950000e+14  1.730000e+12  \n",
       "1     True  0.005600  4.430000e+14  1.730000e+12  \n",
       "2     True  0.050431  6.600000e+14  1.730000e+12  \n",
       "3     True  0.050043  1.080000e+15  1.730000e+12  \n",
       "4     True  0.003055  1.050000e+15  1.730000e+12  "
      ]
     },
     "execution_count": 125,
     "metadata": {},
     "output_type": "execute_result"
    }
   ],
   "source": [
    "historydf.head(5)"
   ]
  },
  {
   "cell_type": "markdown",
   "id": "86e4d998",
   "metadata": {},
   "source": [
    "# Data Loading and Combination\n",
    "We begin by importing both datasets and inspecting their structure.\n",
    "Each dataset is cleaned and standardized before merging on a common date field."
   ]
  },
  {
   "cell_type": "code",
   "execution_count": 126,
   "id": "efaf5020",
   "metadata": {},
   "outputs": [],
   "source": [
    "historydf.columns=historydf.columns.str.strip().str.replace(' ', '_')\n",
    "historydf.rename(columns={'Execution_Price':'exec_price',\n",
    "                       'Size_Tokens':'size_tokens',\n",
    "                       'Size_USD':'size_usd',\n",
    "                       'Closed_PnL':'pnl',\n",
    "                       'Timestamp_IST':'timestamp_ist'}, inplace=True)"
   ]
  },
  {
   "cell_type": "code",
   "execution_count": 127,
   "id": "5138c940",
   "metadata": {},
   "outputs": [
    {
     "data": {
      "text/plain": [
       "Index(['Account', 'Coin', 'exec_price', 'size_tokens', 'size_usd', 'Side',\n",
       "       'timestamp_ist', 'Start_Position', 'Direction', 'pnl',\n",
       "       'Transaction_Hash', 'Order_ID', 'Crossed', 'Fee', 'Trade_ID',\n",
       "       'Timestamp'],\n",
       "      dtype='object')"
      ]
     },
     "execution_count": 127,
     "metadata": {},
     "output_type": "execute_result"
    }
   ],
   "source": [
    "historydf.columns"
   ]
  },
  {
   "cell_type": "code",
   "execution_count": 128,
   "id": "529c3fa0",
   "metadata": {},
   "outputs": [],
   "source": [
    "historydf['timestamp_ist'] = pd.to_datetime(historydf['timestamp_ist'], errors='coerce', format=\"%d-%m-%Y %H:%M\")\n",
    "historydf['trade_date'] = historydf['timestamp_ist'].dt.date"
   ]
  },
  {
   "cell_type": "code",
   "execution_count": 129,
   "id": "bd73f0d7",
   "metadata": {},
   "outputs": [],
   "source": [
    "feardf['date'] = pd.to_datetime(feardf['date'], errors='coerce').dt.date"
   ]
  },
  {
   "cell_type": "code",
   "execution_count": 130,
   "id": "d7b6ee80",
   "metadata": {},
   "outputs": [],
   "source": [
    "merged=historydf.merge(feardf[['date','value','classification']],\n",
    "                      left_on='trade_date', right_on='date', how='left')"
   ]
  },
  {
   "cell_type": "code",
   "execution_count": 131,
   "id": "2cdd96a3",
   "metadata": {},
   "outputs": [
    {
     "data": {
      "text/html": [
       "<div>\n",
       "<style scoped>\n",
       "    .dataframe tbody tr th:only-of-type {\n",
       "        vertical-align: middle;\n",
       "    }\n",
       "\n",
       "    .dataframe tbody tr th {\n",
       "        vertical-align: top;\n",
       "    }\n",
       "\n",
       "    .dataframe thead th {\n",
       "        text-align: right;\n",
       "    }\n",
       "</style>\n",
       "<table border=\"1\" class=\"dataframe\">\n",
       "  <thead>\n",
       "    <tr style=\"text-align: right;\">\n",
       "      <th></th>\n",
       "      <th>Account</th>\n",
       "      <th>Coin</th>\n",
       "      <th>exec_price</th>\n",
       "      <th>size_tokens</th>\n",
       "      <th>size_usd</th>\n",
       "      <th>Side</th>\n",
       "      <th>timestamp_ist</th>\n",
       "      <th>Start_Position</th>\n",
       "      <th>Direction</th>\n",
       "      <th>pnl</th>\n",
       "      <th>Transaction_Hash</th>\n",
       "      <th>Order_ID</th>\n",
       "      <th>Crossed</th>\n",
       "      <th>Fee</th>\n",
       "      <th>Trade_ID</th>\n",
       "      <th>Timestamp</th>\n",
       "      <th>trade_date</th>\n",
       "      <th>date</th>\n",
       "      <th>value</th>\n",
       "      <th>classification</th>\n",
       "    </tr>\n",
       "  </thead>\n",
       "  <tbody>\n",
       "    <tr>\n",
       "      <th>0</th>\n",
       "      <td>0xae5eacaf9c6b9111fd53034a602c192a04e082ed</td>\n",
       "      <td>@107</td>\n",
       "      <td>7.9769</td>\n",
       "      <td>986.87</td>\n",
       "      <td>7872.16</td>\n",
       "      <td>BUY</td>\n",
       "      <td>2024-12-02 22:50:00</td>\n",
       "      <td>0.000000</td>\n",
       "      <td>Buy</td>\n",
       "      <td>0.0</td>\n",
       "      <td>0xec09451986a1874e3a980418412fcd0201f500c95bac...</td>\n",
       "      <td>52017706630</td>\n",
       "      <td>True</td>\n",
       "      <td>0.345404</td>\n",
       "      <td>8.950000e+14</td>\n",
       "      <td>1.730000e+12</td>\n",
       "      <td>2024-12-02</td>\n",
       "      <td>2024-12-02</td>\n",
       "      <td>80.0</td>\n",
       "      <td>Extreme Greed</td>\n",
       "    </tr>\n",
       "    <tr>\n",
       "      <th>1</th>\n",
       "      <td>0xae5eacaf9c6b9111fd53034a602c192a04e082ed</td>\n",
       "      <td>@107</td>\n",
       "      <td>7.9800</td>\n",
       "      <td>16.00</td>\n",
       "      <td>127.68</td>\n",
       "      <td>BUY</td>\n",
       "      <td>2024-12-02 22:50:00</td>\n",
       "      <td>986.524596</td>\n",
       "      <td>Buy</td>\n",
       "      <td>0.0</td>\n",
       "      <td>0xec09451986a1874e3a980418412fcd0201f500c95bac...</td>\n",
       "      <td>52017706630</td>\n",
       "      <td>True</td>\n",
       "      <td>0.005600</td>\n",
       "      <td>4.430000e+14</td>\n",
       "      <td>1.730000e+12</td>\n",
       "      <td>2024-12-02</td>\n",
       "      <td>2024-12-02</td>\n",
       "      <td>80.0</td>\n",
       "      <td>Extreme Greed</td>\n",
       "    </tr>\n",
       "    <tr>\n",
       "      <th>2</th>\n",
       "      <td>0xae5eacaf9c6b9111fd53034a602c192a04e082ed</td>\n",
       "      <td>@107</td>\n",
       "      <td>7.9855</td>\n",
       "      <td>144.09</td>\n",
       "      <td>1150.63</td>\n",
       "      <td>BUY</td>\n",
       "      <td>2024-12-02 22:50:00</td>\n",
       "      <td>1002.518996</td>\n",
       "      <td>Buy</td>\n",
       "      <td>0.0</td>\n",
       "      <td>0xec09451986a1874e3a980418412fcd0201f500c95bac...</td>\n",
       "      <td>52017706630</td>\n",
       "      <td>True</td>\n",
       "      <td>0.050431</td>\n",
       "      <td>6.600000e+14</td>\n",
       "      <td>1.730000e+12</td>\n",
       "      <td>2024-12-02</td>\n",
       "      <td>2024-12-02</td>\n",
       "      <td>80.0</td>\n",
       "      <td>Extreme Greed</td>\n",
       "    </tr>\n",
       "    <tr>\n",
       "      <th>3</th>\n",
       "      <td>0xae5eacaf9c6b9111fd53034a602c192a04e082ed</td>\n",
       "      <td>@107</td>\n",
       "      <td>7.9874</td>\n",
       "      <td>142.98</td>\n",
       "      <td>1142.04</td>\n",
       "      <td>BUY</td>\n",
       "      <td>2024-12-02 22:50:00</td>\n",
       "      <td>1146.558564</td>\n",
       "      <td>Buy</td>\n",
       "      <td>0.0</td>\n",
       "      <td>0xec09451986a1874e3a980418412fcd0201f500c95bac...</td>\n",
       "      <td>52017706630</td>\n",
       "      <td>True</td>\n",
       "      <td>0.050043</td>\n",
       "      <td>1.080000e+15</td>\n",
       "      <td>1.730000e+12</td>\n",
       "      <td>2024-12-02</td>\n",
       "      <td>2024-12-02</td>\n",
       "      <td>80.0</td>\n",
       "      <td>Extreme Greed</td>\n",
       "    </tr>\n",
       "    <tr>\n",
       "      <th>4</th>\n",
       "      <td>0xae5eacaf9c6b9111fd53034a602c192a04e082ed</td>\n",
       "      <td>@107</td>\n",
       "      <td>7.9894</td>\n",
       "      <td>8.73</td>\n",
       "      <td>69.75</td>\n",
       "      <td>BUY</td>\n",
       "      <td>2024-12-02 22:50:00</td>\n",
       "      <td>1289.488521</td>\n",
       "      <td>Buy</td>\n",
       "      <td>0.0</td>\n",
       "      <td>0xec09451986a1874e3a980418412fcd0201f500c95bac...</td>\n",
       "      <td>52017706630</td>\n",
       "      <td>True</td>\n",
       "      <td>0.003055</td>\n",
       "      <td>1.050000e+15</td>\n",
       "      <td>1.730000e+12</td>\n",
       "      <td>2024-12-02</td>\n",
       "      <td>2024-12-02</td>\n",
       "      <td>80.0</td>\n",
       "      <td>Extreme Greed</td>\n",
       "    </tr>\n",
       "  </tbody>\n",
       "</table>\n",
       "</div>"
      ],
      "text/plain": [
       "                                      Account  Coin  exec_price  size_tokens  \\\n",
       "0  0xae5eacaf9c6b9111fd53034a602c192a04e082ed  @107      7.9769       986.87   \n",
       "1  0xae5eacaf9c6b9111fd53034a602c192a04e082ed  @107      7.9800        16.00   \n",
       "2  0xae5eacaf9c6b9111fd53034a602c192a04e082ed  @107      7.9855       144.09   \n",
       "3  0xae5eacaf9c6b9111fd53034a602c192a04e082ed  @107      7.9874       142.98   \n",
       "4  0xae5eacaf9c6b9111fd53034a602c192a04e082ed  @107      7.9894         8.73   \n",
       "\n",
       "   size_usd Side       timestamp_ist  Start_Position Direction  pnl  \\\n",
       "0   7872.16  BUY 2024-12-02 22:50:00        0.000000       Buy  0.0   \n",
       "1    127.68  BUY 2024-12-02 22:50:00      986.524596       Buy  0.0   \n",
       "2   1150.63  BUY 2024-12-02 22:50:00     1002.518996       Buy  0.0   \n",
       "3   1142.04  BUY 2024-12-02 22:50:00     1146.558564       Buy  0.0   \n",
       "4     69.75  BUY 2024-12-02 22:50:00     1289.488521       Buy  0.0   \n",
       "\n",
       "                                    Transaction_Hash     Order_ID  Crossed  \\\n",
       "0  0xec09451986a1874e3a980418412fcd0201f500c95bac...  52017706630     True   \n",
       "1  0xec09451986a1874e3a980418412fcd0201f500c95bac...  52017706630     True   \n",
       "2  0xec09451986a1874e3a980418412fcd0201f500c95bac...  52017706630     True   \n",
       "3  0xec09451986a1874e3a980418412fcd0201f500c95bac...  52017706630     True   \n",
       "4  0xec09451986a1874e3a980418412fcd0201f500c95bac...  52017706630     True   \n",
       "\n",
       "        Fee      Trade_ID     Timestamp  trade_date        date  value  \\\n",
       "0  0.345404  8.950000e+14  1.730000e+12  2024-12-02  2024-12-02   80.0   \n",
       "1  0.005600  4.430000e+14  1.730000e+12  2024-12-02  2024-12-02   80.0   \n",
       "2  0.050431  6.600000e+14  1.730000e+12  2024-12-02  2024-12-02   80.0   \n",
       "3  0.050043  1.080000e+15  1.730000e+12  2024-12-02  2024-12-02   80.0   \n",
       "4  0.003055  1.050000e+15  1.730000e+12  2024-12-02  2024-12-02   80.0   \n",
       "\n",
       "  classification  \n",
       "0  Extreme Greed  \n",
       "1  Extreme Greed  \n",
       "2  Extreme Greed  \n",
       "3  Extreme Greed  \n",
       "4  Extreme Greed  "
      ]
     },
     "execution_count": 131,
     "metadata": {},
     "output_type": "execute_result"
    }
   ],
   "source": [
    "merged.head(5)"
   ]
  },
  {
   "cell_type": "code",
   "execution_count": 132,
   "id": "b88ce7bf",
   "metadata": {},
   "outputs": [
    {
     "data": {
      "text/plain": [
       "Account             0\n",
       "Coin                0\n",
       "exec_price          0\n",
       "size_tokens         0\n",
       "size_usd            0\n",
       "Side                0\n",
       "timestamp_ist       0\n",
       "Start_Position      0\n",
       "Direction           0\n",
       "pnl                 0\n",
       "Transaction_Hash    0\n",
       "Order_ID            0\n",
       "Crossed             0\n",
       "Fee                 0\n",
       "Trade_ID            0\n",
       "Timestamp           0\n",
       "trade_date          0\n",
       "date                6\n",
       "value               6\n",
       "classification      6\n",
       "dtype: int64"
      ]
     },
     "execution_count": 132,
     "metadata": {},
     "output_type": "execute_result"
    }
   ],
   "source": [
    "merged.isna().sum()"
   ]
  },
  {
   "cell_type": "code",
   "execution_count": 133,
   "id": "58ef4ca7",
   "metadata": {},
   "outputs": [
    {
     "data": {
      "text/plain": [
       "0"
      ]
     },
     "execution_count": 133,
     "metadata": {},
     "output_type": "execute_result"
    }
   ],
   "source": [
    "# merged.dropna(subset=['classification'], inplace=True)\n",
    "merged.dropna(inplace=True)\n",
    "merged.classification.isna().sum()"
   ]
  },
  {
   "cell_type": "code",
   "execution_count": 134,
   "id": "1c105a9a",
   "metadata": {},
   "outputs": [],
   "source": [
    "merged['is_profit'] = (merged['pnl'] > 0).astype(int)"
   ]
  },
  {
   "cell_type": "markdown",
   "id": "94c19f5d",
   "metadata": {},
   "source": [
    "# Exploratory Data Analysis (EDA)\n",
    "The exploratory analysis examines key behavioral and performance patterns of traders under varying market sentiment conditions.\n",
    "it explores:\n",
    "<ul>\n",
    "<li>The distribution of trader PnL across different Fear–Greed sentiment categories.\n",
    "How average PnL and trade size change during “Fear” vs “Greed” phases.</li>\n",
    "\n",
    "<li>The leverage usage and its stability across sentiment states.\n",
    "</li>\n",
    "<li>\n",
    "The activity of top-performing traders and their contribution to total market PnL.\n",
    "</li>\n",
    "<li>\n",
    "The relationship between daily sentiment and aggregated trader performance over time.\n",
    "</li>\n",
    "</ul>"
   ]
  },
  {
   "cell_type": "code",
   "execution_count": 135,
   "id": "e19c4f96",
   "metadata": {},
   "outputs": [
    {
     "data": {
      "text/plain": [
       "<AxesSubplot:title={'center':'Sentiment Distribution'}, xlabel='classification', ylabel='count'>"
      ]
     },
     "execution_count": 135,
     "metadata": {},
     "output_type": "execute_result"
    },
    {
     "data": {
      "image/png": "[encoded data removed]",
      "text/plain": [
       "<Figure size 576x288 with 1 Axes>"
      ]
     },
     "metadata": {
      "needs_background": "light"
     },
     "output_type": "display_data"
    }
   ],
   "source": [
    "plt.figure(figsize=(8,4))\n",
    "plt.title(\"Sentiment Distribution\",fontsize=16)\n",
    "sns.countplot(x=merged.classification)"
   ]
  },
  {
   "cell_type": "markdown",
   "id": "259e2a9c",
   "metadata": {},
   "source": [
    "### Average PnL by Market Sentiment"
   ]
  },
  {
   "cell_type": "code",
   "execution_count": 136,
   "id": "b0a1525e",
   "metadata": {},
   "outputs": [
    {
     "name": "stdout",
     "output_type": "stream",
     "text": [
      "Average PnL by Sentiment:\n"
     ]
    },
    {
     "data": {
      "text/plain": [
       "classification\n",
       "Extreme Fear     34.537862\n",
       "Extreme Greed    67.892861\n",
       "Fear             54.290400\n",
       "Greed            42.743559\n",
       "Neutral          34.307718\n",
       "Name: pnl, dtype: float64"
      ]
     },
     "execution_count": 136,
     "metadata": {},
     "output_type": "execute_result"
    }
   ],
   "source": [
    "print(\"Average PnL by Sentiment:\")\n",
    "merged.groupby('classification')['pnl'].mean()"
   ]
  },
  {
   "cell_type": "code",
   "execution_count": 137,
   "id": "055f562f",
   "metadata": {},
   "outputs": [
    {
     "data": {
      "text/plain": [
       "<AxesSubplot:title={'center':'Average PnL by Sentiment'}, xlabel='classification', ylabel='pnl'>"
      ]
     },
     "execution_count": 137,
     "metadata": {},
     "output_type": "execute_result"
    },
    {
     "data": {
      "image/png": "[encoded data removed]",
      "text/plain": [
       "<Figure size 576x288 with 1 Axes>"
      ]
     },
     "metadata": {
      "needs_background": "light"
     },
     "output_type": "display_data"
    }
   ],
   "source": [
    "plt.figure(figsize=(8,4))\n",
    "plt.title(\"Average PnL by Sentiment\",fontsize=16)\n",
    "sns.barplot(x=merged.classification,y=merged.pnl)"
   ]
  },
  {
   "cell_type": "markdown",
   "id": "4678d2b6",
   "metadata": {},
   "source": [
    "### Trade PnL Distribution by Market Sentiment"
   ]
  },
  {
   "cell_type": "code",
   "execution_count": 138,
   "id": "4a9b4d3b",
   "metadata": {},
   "outputs": [
    {
     "data": {
      "text/plain": [
       "<AxesSubplot:title={'center':'Trade PnL Distribution by Market Sentiment'}, xlabel='classification', ylabel='pnl'>"
      ]
     },
     "execution_count": 138,
     "metadata": {},
     "output_type": "execute_result"
    },
    {
     "data": {
      "image/png": "[encoded data removed]",
      "text/plain": [
       "<Figure size 576x288 with 1 Axes>"
      ]
     },
     "metadata": {
      "needs_background": "light"
     },
     "output_type": "display_data"
    }
   ],
   "source": [
    "plt.figure(figsize=(8,4))\n",
    "plt.title(\"Trade PnL Distribution by Market Sentiment\",fontsize=16)\n",
    "sns.boxplot(x=merged.classification, y=merged.pnl)"
   ]
  },
  {
   "cell_type": "markdown",
   "id": "fae0f3ea",
   "metadata": {},
   "source": [
    "### Average Trade Size by Sentiment"
   ]
  },
  {
   "cell_type": "code",
   "execution_count": 139,
   "id": "2ddf037a",
   "metadata": {},
   "outputs": [
    {
     "name": "stdout",
     "output_type": "stream",
     "text": [
      "Average Trade Size by Sentiment:\n"
     ]
    },
    {
     "data": {
      "text/plain": [
       "classification\n",
       "Extreme Fear     5349.731843\n",
       "Extreme Greed    3112.251565\n",
       "Fear             7816.109931\n",
       "Greed            5736.884375\n",
       "Neutral          4782.732661\n",
       "Name: size_usd, dtype: float64"
      ]
     },
     "execution_count": 139,
     "metadata": {},
     "output_type": "execute_result"
    }
   ],
   "source": [
    "print(\"Average Trade Size by Sentiment:\")\n",
    "merged.groupby('classification')['size_usd'].mean()"
   ]
  },
  {
   "cell_type": "code",
   "execution_count": 140,
   "id": "2be6b034",
   "metadata": {},
   "outputs": [
    {
     "data": {
      "text/plain": [
       "<AxesSubplot:title={'center':'Average Trade Size by Sentiment'}, xlabel='classification', ylabel='size_usd'>"
      ]
     },
     "execution_count": 140,
     "metadata": {},
     "output_type": "execute_result"
    },
    {
     "data": {
      "image/png": "[encoded data removed]",
      "text/plain": [
       "<Figure size 576x288 with 1 Axes>"
      ]
     },
     "metadata": {
      "needs_background": "light"
     },
     "output_type": "display_data"
    }
   ],
   "source": [
    "plt.figure(figsize=(8,4))\n",
    "plt.title(\"Average Trade Size by Sentiment\")\n",
    "sns.barplot(x=merged.classification,y=merged.size_usd)"
   ]
  },
  {
   "cell_type": "markdown",
   "id": "1d64f6a7",
   "metadata": {},
   "source": [
    "### Total Trade Size by Sentiment\""
   ]
  },
  {
   "cell_type": "code",
   "execution_count": 141,
   "id": "ba9b4013",
   "metadata": {},
   "outputs": [
    {
     "data": {
      "text/plain": [
       "<AxesSubplot:title={'center':'Total Trade Size by Sentiment'}, xlabel='classification', ylabel='size_usd'>"
      ]
     },
     "execution_count": 141,
     "metadata": {},
     "output_type": "execute_result"
    },
    {
     "data": {
      "image/png": "[encoded data removed]",
      "text/plain": [
       "<Figure size 576x288 with 1 Axes>"
      ]
     },
     "metadata": {
      "needs_background": "light"
     },
     "output_type": "display_data"
    }
   ],
   "source": [
    "totals = merged.groupby('classification', as_index=False)['size_usd'].sum()\n",
    "totals = totals.sort_values('size_usd', ascending=False)\n",
    "\n",
    "plt.figure(figsize=(8, 4))\n",
    "plt.title(\"Total Trade Size by Sentiment\")\n",
    "sns.barplot(\n",
    "    data=totals,\n",
    "    x='classification',\n",
    "    y='size_usd',\n",
    "    palette='viridis'\n",
    ")"
   ]
  },
  {
   "cell_type": "markdown",
   "id": "81e59659",
   "metadata": {},
   "source": [
    "### Profitable Trades by Market Sentiment"
   ]
  },
  {
   "cell_type": "code",
   "execution_count": 142,
   "id": "421a89a2",
   "metadata": {},
   "outputs": [
    {
     "data": {
      "text/plain": [
       "classification\n",
       "Extreme Fear     0.370607\n",
       "Extreme Greed    0.464943\n",
       "Fear             0.420768\n",
       "Greed            0.384828\n",
       "Neutral          0.396991\n",
       "Name: is_profit, dtype: float64"
      ]
     },
     "execution_count": 142,
     "metadata": {},
     "output_type": "execute_result"
    }
   ],
   "source": [
    "merged.groupby('classification')['is_profit'].mean()"
   ]
  },
  {
   "cell_type": "code",
   "execution_count": 143,
   "id": "b045ea73",
   "metadata": {},
   "outputs": [
    {
     "data": {
      "text/plain": [
       "<AxesSubplot:title={'center':'Profitable Trades by Market Sentiment'}, xlabel='classification', ylabel='is_profit'>"
      ]
     },
     "execution_count": 143,
     "metadata": {},
     "output_type": "execute_result"
    },
    {
     "data": {
      "image/png": "[encoded data removed]",
      "text/plain": [
       "<Figure size 576x288 with 1 Axes>"
      ]
     },
     "metadata": {
      "needs_background": "light"
     },
     "output_type": "display_data"
    }
   ],
   "source": [
    "plt.figure(figsize=(8,4))\n",
    "plt.title(\"Profitable Trades by Market Sentiment\")\n",
    "sns.barplot(x=merged.classification,y=merged.is_profit)"
   ]
  },
  {
   "cell_type": "markdown",
   "id": "bc5f2eaf",
   "metadata": {},
   "source": [
    "### Time-Series View: Sentiment vs. Total PnL\n",
    "Overlaying total daily PnL with the Fear–Greed Index shows no clear alignment sentiment changes don’t directly predict profit trends."
   ]
  },
  {
   "cell_type": "code",
   "execution_count": 144,
   "id": "222540a6",
   "metadata": {},
   "outputs": [
    {
     "data": {
      "text/plain": [
       "Text(0.5, 1.0, 'Daily PnL vs Market Sentiment')"
      ]
     },
     "execution_count": 144,
     "metadata": {},
     "output_type": "execute_result"
    },
    {
     "data": {
      "image/png": "[encoded data removed]",
      "text/plain": [
       "<Figure size 864x432 with 2 Axes>"
      ]
     },
     "metadata": {
      "needs_background": "light"
     },
     "output_type": "display_data"
    }
   ],
   "source": [
    "daily = merged.groupby('trade_date').agg(\n",
    "    total_pnl=('pnl','sum'),\n",
    "    mean_fg=('value','mean')\n",
    ").reset_index()\n",
    "\n",
    "fig, ax1 = plt.subplots(figsize=(12,6))\n",
    "ax1.plot(pd.to_datetime(daily['trade_date']), daily['total_pnl'], label='Total PnL', color='royalblue')\n",
    "ax1.set_ylabel(\"Total PnL\", color='royalblue',fontsize=12)\n",
    "\n",
    "ax2 = ax1.twinx()\n",
    "ax2.plot(pd.to_datetime(daily['trade_date']), daily['mean_fg'], label='Fear-Greed Index', color='orange')\n",
    "ax2.set_ylabel(\"Fear-Greed Index\", color='orange',fontsize=12)\n",
    "\n",
    "plt.title(\"Daily PnL vs Market Sentiment\",fontsize=12)"
   ]
  },
  {
   "cell_type": "markdown",
   "id": "37b11b2c",
   "metadata": {},
   "source": [
    "### Total Daily Trader PnL by Dominant Market Sentiment\n",
    "Illustrates how overall trader profitability varies with prevailing market sentiment each day."
   ]
  },
  {
   "cell_type": "code",
   "execution_count": 145,
   "id": "050b25d7",
   "metadata": {},
   "outputs": [],
   "source": [
    "daily = (\n",
    "    merged.groupby('trade_date')\n",
    "    .agg(\n",
    "        total_pnl=('pnl', 'sum'),\n",
    "        mean_sentiment=('value', 'mean'),\n",
    "        dominant_sentiment=('classification', lambda x: x.mode()[0] if not x.mode().empty else None)\n",
    "    )\n",
    "    .reset_index()\n",
    ")"
   ]
  },
  {
   "cell_type": "code",
   "execution_count": 146,
   "id": "095e02bf",
   "metadata": {},
   "outputs": [
    {
     "data": {
      "text/plain": [
       "<AxesSubplot:title={'center':'Total Daily Trader PnL by Dominant Market Sentiment'}, xlabel='dominant_sentiment', ylabel='total_pnl'>"
      ]
     },
     "execution_count": 146,
     "metadata": {},
     "output_type": "execute_result"
    },
    {
     "data": {
      "image/png": "[encoded data removed]",
      "text/plain": [
       "<Figure size 432x288 with 1 Axes>"
      ]
     },
     "metadata": {
      "needs_background": "light"
     },
     "output_type": "display_data"
    }
   ],
   "source": [
    "plt.title(\"Total Daily Trader PnL by Dominant Market Sentiment\")\n",
    "sns.barplot(x=daily.dominant_sentiment,y=daily.total_pnl)"
   ]
  },
  {
   "cell_type": "markdown",
   "id": "f5e4e5e8",
   "metadata": {},
   "source": [
    "### Trader Daily PnL vs Market Sentiment (Fear–Greed Value)"
   ]
  },
  {
   "cell_type": "code",
   "execution_count": 147,
   "id": "624a1074",
   "metadata": {},
   "outputs": [
    {
     "data": {
      "image/png": "[encoded data removed]",
      "text/plain": [
       "<Figure size 432x288 with 1 Axes>"
      ]
     },
     "metadata": {
      "needs_background": "light"
     },
     "output_type": "display_data"
    }
   ],
   "source": [
    "sns.regplot(x=daily.mean_sentiment,y=daily.total_pnl,scatter_kws={'alpha':0.6})\n",
    "plt.title(\"Trader Daily PnL vs Market Sentiment (Fear–Greed Value)\")\n",
    "plt.xlabel(\"Mean Sentiment (Fear-Greed Index)\")\n",
    "plt.ylabel(\"Total Trader PnL (USD)\")\n",
    "plt.grid(True, linestyle='--', alpha=0.5)"
   ]
  },
  {
   "cell_type": "markdown",
   "id": "1bd0c929",
   "metadata": {},
   "source": [
    "## Hypothesis Testing\n",
    "### Hypothesis Definition\n",
    "A null hypothesis ($H_0$) assumes there is no significant relationship between two variables, and any observed effect is due to random chance.\n",
    "\n",
    "In this analysis, we test:\n",
    "\n",
    "- **Null Hypothesis($H_0$):** There is no significant linear relationship between market sentiment and trader performance (PnL).\n",
    "($\\rho = 0$)\n",
    "\n",
    "- **Alternative Hypothesis ($H_1$):** There is a significant linear relationship.\n",
    "($\\rho \\neq 0$)\n"
   ]
  },
  {
   "cell_type": "code",
   "execution_count": 148,
   "id": "d0f51b8c",
   "metadata": {},
   "outputs": [
    {
     "name": "stdout",
     "output_type": "stream",
     "text": [
      "Correlation between Market Sentiment and Trader Performance\n",
      "Pearson correlation : -0.083 (p-value = 0.071)\n",
      "Spearman correlation: 0.040 (p-value = 0.384)\n",
      "Pearson correlation is not statistically significant (p ≥ 0.05).\n"
     ]
    }
   ],
   "source": [
    "pearson_corr,pearson_p=pearsonr(daily['mean_sentiment'], daily['total_pnl'])\n",
    "spearman_corr,spearman_p=spearmanr(daily['mean_sentiment'], daily['total_pnl'])\n",
    "print(\"Correlation between Market Sentiment and Trader Performance\")\n",
    "print(f\"Pearson correlation : {pearson_corr:.3f} (p-value = {pearson_p:.3f})\")\n",
    "print(f\"Spearman correlation: {spearman_corr:.3f} (p-value = {spearman_p:.3f})\")\n",
    "if pearson_p < 0.05:\n",
    "    print(\"Pearson correlation is statistically significant (p < 0.05).\")\n",
    "else:\n",
    "    print(\"Pearson correlation is not statistically significant (p ≥ 0.05).\")"
   ]
  },
  {
   "cell_type": "markdown",
   "id": "e80ec067",
   "metadata": {},
   "source": [
    "## Conclusion\n",
    "\n",
    "This analysis explored the relationship between **Bitcoin market sentiment** and **trader performance** using **Hyperliquid trading data** and the **Fear–Greed Index**.\n",
    "\n",
    "### Key Findings\n",
    "\n",
    "- **Trader activity and trade size** increase during *Fear* and *Greed* periods, reflecting stronger market participation and confidence.  \n",
    "- **PnL volatility** is highest in *Extreme Greed* phases, suggesting increased **risk-taking behavior** during bullish sentiment.  \n",
    "- **Correlation tests (Pearson and Spearman)** indicate **no statistically significant relationship** between sentiment and trader performance ($p > 0.05$).  \n",
    "- The **null hypothesis** ($H_0: \\rho = 0$) is therefore **not rejected**, implying that **daily sentiment does not directly predict trader profitability**.  \n",
    "- A **small group of traders consistently outperform** regardless of sentiment, emphasizing the value of **strategy and discipline** over emotional bias.  \n",
    "\n"
   ]
  },
  {
   "cell_type": "code",
   "execution_count": null,
   "id": "9c94ffd2",
   "metadata": {},
   "outputs": [],
   "source": []
  }
 ],
 "metadata": {
  "kernelspec": {
   "display_name": "Python 3",
   "language": "python",
   "name": "python3"
  },
  "language_info": {
   "codemirror_mode": {
    "name": "ipython",
    "version": 3
   },
   "file_extension": ".py",
   "mimetype": "text/x-python",
   "name": "python",
   "nbconvert_exporter": "python",
   "pygments_lexer": "ipython3",
   "version": "3.9.6"
  }
 },
 "nbformat": 4,
 "nbformat_minor": 5
}
